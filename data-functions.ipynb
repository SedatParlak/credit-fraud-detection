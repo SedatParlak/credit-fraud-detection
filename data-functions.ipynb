{
 "cells": [
  {
   "cell_type": "markdown",
   "id": "75be5016",
   "metadata": {},
   "source": [
    "**Catch categorical, numerical and cardinal variables**"
   ]
  },
  {
   "cell_type": "code",
   "execution_count": 5,
   "id": "54b92cc7",
   "metadata": {},
   "outputs": [],
   "source": [
    "def grab_col_names(dataframe, cat_th=10, car_th=20):\n",
    "\n",
    "    # cat_cols, cat_but_car\n",
    "    cat_cols = [col for col in dataframe.columns if dataframe[col].dtypes == \"O\"]\n",
    "    num_but_cat = [col for col in dataframe.columns if dataframe[col].nunique() < cat_th and\n",
    "                   dataframe[col].dtypes != \"O\"]\n",
    "    cat_but_car = [col for col in dataframe.columns if dataframe[col].nunique() > car_th and\n",
    "                   dataframe[col].dtypes == \"O\"]\n",
    "    cat_cols = cat_cols + num_but_cat\n",
    "    cat_cols = [col for col in cat_cols if col not in cat_but_car]\n",
    "\n",
    "    # num_cols\n",
    "    num_cols = [col for col in dataframe.columns if dataframe[col].dtypes != \"O\"]\n",
    "    num_cols = [col for col in num_cols if col not in num_but_cat]\n",
    "\n",
    "    print(f'Observations: {dataframe.shape[0]}')\n",
    "    print(f'Variables: {dataframe.shape[1]}')\n",
    "    print(f'Categorical Variables: {len(cat_cols)}')\n",
    "    print(f'Numerical Variables: {len(num_cols)}')\n",
    "    print(f'Numerical But Categorical Variables: {len(num_but_cat)}')\n",
    "    print(f'Categorical But Cardinal: {len(cat_but_car)}')\n",
    "    \n",
    "    return cat_cols, num_cols, cat_but_car"
   ]
  },
  {
   "cell_type": "markdown",
   "id": "994a6320",
   "metadata": {},
   "source": [
    "**Summarize the categorical variables**"
   ]
  },
  {
   "cell_type": "code",
   "execution_count": 11,
   "id": "9d9352a6",
   "metadata": {},
   "outputs": [],
   "source": [
    "def cat_summary(dataframe, col_name, plot=False):\n",
    "    print(pd.DataFrame({col_name: dataframe[col_name].value_counts(),\n",
    "                       'Ratio': round(100*(dataframe[col_name].value_counts()) / len(dataframe), 2)}))\n",
    "    \n",
    "    if plot:\n",
    "        plt.figure(figsize=(5, 3))\n",
    "        sns.countplot(x=col_name, data=dataframe)\n",
    "        plt.xticks(rotation=90)\n",
    "        plt.show()\n",
    "        \n",
    "    print(100*'#')"
   ]
  },
  {
   "cell_type": "markdown",
   "id": "2f7ac4ef",
   "metadata": {},
   "source": [
    "**Summarize the numerical variables**"
   ]
  },
  {
   "cell_type": "code",
   "execution_count": 3,
   "id": "d4b60f8a",
   "metadata": {},
   "outputs": [],
   "source": [
    "def num_summary(dataframe, numerical_col, plot=False):\n",
    "    print(numerical_col.upper())\n",
    "    quantiles = [0.1, 0.2, 0.3, 0.4, 0.5, 0.6, 0.7, 0.8, 0.9]\n",
    "    print(dataframe[numerical_col].describe(quantiles).T)\n",
    "    \n",
    "    if plot:\n",
    "        sns.histplot(data=dataframe, x=numerical_col)\n",
    "        plt.title(numerical_col)\n",
    "        plt.xlabel(numerical_col)\n",
    "        plt.show()\n",
    "       \n",
    "    print(100*'#')"
   ]
  },
  {
   "cell_type": "markdown",
   "id": "19c76a5d",
   "metadata": {},
   "source": [
    "**Target Variable Analysis**"
   ]
  },
  {
   "cell_type": "code",
   "execution_count": 6,
   "id": "caa9a7c3",
   "metadata": {},
   "outputs": [],
   "source": [
    "def target_summary_with_cat(dataframe, target, categorical_col):\n",
    "    print(pd.DataFrame({'Target Mean': dataframe.groupby(categorical_col)[target].mean()}))\n",
    "    print(100*'#')"
   ]
  },
  {
   "cell_type": "markdown",
   "id": "82223282",
   "metadata": {},
   "source": [
    "**Outlier Analysis**"
   ]
  },
  {
   "cell_type": "code",
   "execution_count": 10,
   "id": "c583b0f9",
   "metadata": {},
   "outputs": [],
   "source": [
    "def outlier_threshold(dataframe, col_name, q1=0.05, q3=0.95):\n",
    "    \n",
    "    quartile_1 = dataframe[col_name].quantile(q1)\n",
    "    quartile_3 = dataframe[col_name].quantile(q3)\n",
    "    interquartile = quartile_3 - quartile_1\n",
    "    low_limit = quartile_1 - 1.5 * interquartile\n",
    "    up_limit = quartile_3 + 1.5 * interquartile\n",
    "    \n",
    "    return up_limit, low_limit"
   ]
  },
  {
   "cell_type": "code",
   "execution_count": 11,
   "id": "1526e462",
   "metadata": {},
   "outputs": [],
   "source": [
    "def check_outlier(dataframe, col_name):\n",
    "    \n",
    "    up_limit, low_limit = outlier_threshold(dataframe, col_name)\n",
    "    \n",
    "    if dataframe[(dataframe[col_name] < low_limit) | (dataframe[col_name] > up_limit)].any(axis=None):\n",
    "        return True\n",
    "    else:\n",
    "        return False"
   ]
  },
  {
   "cell_type": "code",
   "execution_count": 6,
   "id": "e203a73d",
   "metadata": {},
   "outputs": [],
   "source": [
    "def grap_outliers(dataframe, col_name, index=False):\n",
    "    \n",
    "    low_limit, up_limit = outlier_threshold(dataframe, col_name)\n",
    "    \n",
    "    if dataframe[(dataframe[col_name] < low_limit) | (dataframe[col_name] > up_limit)].shape[0] > 10:\n",
    "        return dataframe[(dataframe[col_name] < low_limit) | (dataframe[col_name] > up_limit)].head()\n",
    "    else:\n",
    "        return dataframe[(dataframe[col_name] < low_limit) | (dataframe[col_name] > up_limit)]\n",
    "        \n",
    "    if index == True:\n",
    "        outlier_index = dataframe[(dataframe[col_name] < low_limit) | (dataframe[col_name] > up_limit)].index\n",
    "        return outlier_index"
   ]
  },
  {
   "cell_type": "code",
   "execution_count": 7,
   "id": "da1ae63e",
   "metadata": {},
   "outputs": [],
   "source": [
    "def catch_outliers(dataframe, col, return_df=False):\n",
    "    outliers = outlier_threshold(dataframe, col, q1=0.05, q3=0.95)\n",
    "    outliers_df = dataframe[(dataframe[col] > outliers[0]) | (dataframe[col] < outliers[1])]\n",
    "    print(f'{col} of total outliers: {len(outliers_df)} rows')\n",
    "    if return_df == True:\n",
    "        return outliers_df"
   ]
  },
  {
   "cell_type": "code",
   "execution_count": 13,
   "id": "a3f606fe",
   "metadata": {},
   "outputs": [],
   "source": [
    "def replace_thresholds(dataframe, col_name):\n",
    "    up_limit, low_limit = outlier_threshold(dataframe, col_name)\n",
    "    dataframe.loc[dataframe[col_name] < low_limit, col_name] = low_limit\n",
    "    dataframe.loc[dataframe[col_name] > up_limit, col_name] = up_limit"
   ]
  },
  {
   "cell_type": "markdown",
   "id": "e3d1963c",
   "metadata": {},
   "source": [
    "**Missing Value**"
   ]
  },
  {
   "cell_type": "code",
   "execution_count": 14,
   "id": "0a910148",
   "metadata": {},
   "outputs": [],
   "source": [
    "def missing_value_table(dataframe, na_name=False):\n",
    "    \n",
    "    na_columns = [col for col in dataframe.columns if dataframe[col].isnull().sum() > 0]\n",
    "    n_miss = dataframe[na_columns].isnull().sum().sort_values(ascending=False)\n",
    "    ratio = (dataframe[na_columns].isnull().sum() / dataframe.shape[0] * 100).sort_values(ascending=False)\n",
    "    missing_df = pd.concat([n_miss, np.round(ratio, 2)], axis=1, keys=['n_miss', 'ratio'])\n",
    "    print(missing_df)\n",
    "    \n",
    "    if na_name == True:\n",
    "        return na_columns"
   ]
  },
  {
   "cell_type": "code",
   "execution_count": null,
   "id": "55365a62",
   "metadata": {},
   "outputs": [],
   "source": []
  }
 ],
 "metadata": {
  "kernelspec": {
   "display_name": "Python [conda env:credit-fraud]",
   "language": "python",
   "name": "conda-env-credit-fraud-py"
  },
  "language_info": {
   "codemirror_mode": {
    "name": "ipython",
    "version": 3
   },
   "file_extension": ".py",
   "mimetype": "text/x-python",
   "name": "python",
   "nbconvert_exporter": "python",
   "pygments_lexer": "ipython3",
   "version": "3.10.9"
  }
 },
 "nbformat": 4,
 "nbformat_minor": 5
}

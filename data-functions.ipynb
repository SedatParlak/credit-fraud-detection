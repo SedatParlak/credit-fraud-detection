{
 "cells": [
  {
   "cell_type": "markdown",
   "id": "75be5016",
   "metadata": {},
   "source": [
    "**Catch categorical, numerical and cardinal variables**"
   ]
  },
  {
   "cell_type": "code",
   "execution_count": 5,
   "id": "54b92cc7",
   "metadata": {},
   "outputs": [],
   "source": [
    "def grab_col_names(dataframe, cat_th=10, car_th=20):\n",
    "\n",
    "    # cat_cols, cat_but_car\n",
    "    cat_cols = [col for col in dataframe.columns if dataframe[col].dtypes == \"O\"]\n",
    "    num_but_cat = [col for col in dataframe.columns if dataframe[col].nunique() < cat_th and\n",
    "                   dataframe[col].dtypes != \"O\"]\n",
    "    cat_but_car = [col for col in dataframe.columns if dataframe[col].nunique() > car_th and\n",
    "                   dataframe[col].dtypes == \"O\"]\n",
    "    cat_cols = cat_cols + num_but_cat\n",
    "    cat_cols = [col for col in cat_cols if col not in cat_but_car]\n",
    "\n",
    "    # num_cols\n",
    "    num_cols = [col for col in dataframe.columns if dataframe[col].dtypes != \"O\"]\n",
    "    num_cols = [col for col in num_cols if col not in num_but_cat]\n",
    "\n",
    "    print(f'Observations: {dataframe.shape[0]}')\n",
    "    print(f'Variables: {dataframe.shape[1]}')\n",
    "    print(f'Categorical Variables: {len(cat_cols)}')\n",
    "    print(f'Numerical Variables: {len(num_cols)}')\n",
    "    print(f'Numerical But Categorical Variables: {len(num_but_cat)}')\n",
    "    print(f'Categorical But Cardinal: {len(cat_but_car)}')\n",
    "    \n",
    "    return cat_cols, num_cols, cat_but_car"
   ]
  },
  {
   "cell_type": "markdown",
   "id": "994a6320",
   "metadata": {},
   "source": [
    "**Summarize the categorical variables**"
   ]
  },
  {
   "cell_type": "code",
   "execution_count": 11,
   "id": "9d9352a6",
   "metadata": {},
   "outputs": [],
   "source": [
    "def cat_summary(dataframe, col_name, plot=False):\n",
    "    print(pd.DataFrame({col_name: dataframe[col_name].value_counts(),\n",
    "                       'Ratio': round(100*(dataframe[col_name].value_counts()) / len(dataframe), 2)}))\n",
    "    \n",
    "    if plot:\n",
    "        plt.figure(figsize=(5, 3))\n",
    "        sns.countplot(x=col_name, data=dataframe)\n",
    "        plt.xticks(rotation=90)\n",
    "        plt.show()\n",
    "        \n",
    "    print(100*'#')"
   ]
  },
  {
   "cell_type": "markdown",
   "id": "2f7ac4ef",
   "metadata": {},
   "source": [
    "**Summarize the numerical variables**"
   ]
  },
  {
   "cell_type": "code",
   "execution_count": 3,
   "id": "d4b60f8a",
   "metadata": {},
   "outputs": [],
   "source": [
    "def num_summary(dataframe, numerical_col, plot=False):\n",
    "    print(numerical_col.upper())\n",
    "    quantiles = [0.1, 0.2, 0.3, 0.4, 0.5, 0.6, 0.7, 0.8, 0.9]\n",
    "    print(dataframe[numerical_col].describe(quantiles).T)\n",
    "    \n",
    "    if plot:\n",
    "        sns.histplot(data=dataframe, x=numerical_col)\n",
    "        plt.title(numerical_col)\n",
    "        plt.xlabel(numerical_col)\n",
    "        plt.show()\n",
    "       \n",
    "    print(100*'#')"
   ]
  },
  {
   "cell_type": "markdown",
   "id": "19c76a5d",
   "metadata": {},
   "source": [
    "**Target Variable Analysis**"
   ]
  },
  {
   "cell_type": "code",
   "execution_count": 6,
   "id": "caa9a7c3",
   "metadata": {},
   "outputs": [],
   "source": [
    "def target_summary_with_cat(dataframe, target, categorical_col):\n",
    "    print(pd.DataFrame({'Target Mean': dataframe.groupby(categorical_col)[target].mean()}))\n",
    "    print(100*'#')"
   ]
  },
  {
   "cell_type": "code",
   "execution_count": null,
   "id": "fe214699",
   "metadata": {},
   "outputs": [],
   "source": []
  }
 ],
 "metadata": {
  "kernelspec": {
   "display_name": "Python [conda env:credit-fraud]",
   "language": "python",
   "name": "conda-env-credit-fraud-py"
  },
  "language_info": {
   "codemirror_mode": {
    "name": "ipython",
    "version": 3
   },
   "file_extension": ".py",
   "mimetype": "text/x-python",
   "name": "python",
   "nbconvert_exporter": "python",
   "pygments_lexer": "ipython3",
   "version": "3.10.9"
  }
 },
 "nbformat": 4,
 "nbformat_minor": 5
}
